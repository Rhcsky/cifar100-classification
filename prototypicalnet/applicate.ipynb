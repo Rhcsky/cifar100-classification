{
 "cells": [
  {
   "cell_type": "code",
   "execution_count": 1,
   "metadata": {
    "collapsed": true
   },
   "outputs": [],
   "source": [
    "import os\n",
    "from glob import glob\n",
    "\n",
    "import torch\n",
    "import torch.backends.cudnn as cudnn\n",
    "from torch.utils.tensorboard import SummaryWriter\n",
    "import numpy as np\n",
    "import torchvision.datasets as dset\n",
    "from torch.utils.data import DataLoader\n",
    "from torchvision import transforms\n",
    "from configurate import get_config\n",
    "from protonets import ProtoNet\n",
    "from utils import AverageMeter\n",
    "from tqdm.notebook import tqdm\n",
    "\n",
    "from dataloader import get_dataloader, PrototypicalBatchSampler\n",
    "from prototypical_loss import PrototypicalLoss, prototypical_evaluator, euclidean_dist\n",
    "from torch.nn import functional as F\n",
    "from easydict import EasyDict"
   ]
  },
  {
   "cell_type": "code",
   "execution_count": 2,
   "outputs": [],
   "source": [
    "args = EasyDict({\n",
    "    \"dataset_dir\" : 'data',\n",
    "    \"exp_name\" : 'TEST',\n",
    "    \"epochs\" : 100,\n",
    "    \"lr\" : 0.001,\n",
    "    \"lr_scheduler_step\" : 20,\n",
    "    \"lr_scheduler_gamma\" : 0.5,\n",
    "    \"manual_seed\" : 7,\n",
    "    'log_dir' : 'runs',\n",
    "    'resume' : False,\n",
    "    'iterations' : 100,\n",
    "    'classes_per_it_tr' : 100,\n",
    "    'num_support_tr' : 3,\n",
    "    'num_query_tr' : 3,\n",
    "    'classes_per_it_val' : 100,\n",
    "    'num_support_val' : 5,\n",
    "    'num_query_val' : 5,\n",
    "})\n",
    "args.log_dir = os.path.join(args.log_dir,args.exp_name)\n",
    "device = 'cpu'"
   ],
   "metadata": {
    "collapsed": false,
    "pycharm": {
     "name": "#%%\n"
    }
   }
  },
  {
   "cell_type": "code",
   "execution_count": 3,
   "outputs": [
    {
     "name": "stdout",
     "output_type": "stream",
     "text": [
      "Loading data...Files already downloaded and verified\n",
      "done\n"
     ]
    }
   ],
   "source": [
    "train_loader, test_loader = get_dataloader(args)"
   ],
   "metadata": {
    "collapsed": false,
    "pycharm": {
     "name": "#%%\n"
    }
   }
  },
  {
   "cell_type": "code",
   "execution_count": 4,
   "outputs": [],
   "source": [
    "torch.cuda.cudnn_enabled = False\n",
    "np.random.seed(args.manual_seed)\n",
    "torch.manual_seed(args.manual_seed)\n",
    "torch.cuda.manual_seed(args.manual_seed)\n",
    "\n",
    "model = ProtoNet().to(device)\n",
    "\n",
    "criterion = PrototypicalLoss().to(device)\n",
    "\n",
    "optimizer = torch.optim.Adam(model.parameters(), args.lr)\n",
    "\n",
    "writer = SummaryWriter(args.log_dir)\n",
    "cudnn.benchmark = True"
   ],
   "metadata": {
    "collapsed": false,
    "pycharm": {
     "name": "#%%\n"
    }
   }
  },
  {
   "cell_type": "code",
   "execution_count": 5,
   "outputs": [],
   "source": [
    "train_data = next(iter(train_loader))\n",
    "test_data = next(iter(test_loader))"
   ],
   "metadata": {
    "collapsed": false,
    "pycharm": {
     "name": "#%%\n"
    }
   }
  },
  {
   "cell_type": "code",
   "execution_count": 6,
   "outputs": [],
   "source": [
    "output = model(train_data[0])\n",
    "query_sample = model(test_data[0])\n",
    "\n",
    "loss, _, prototypes = criterion(output, train_data[1], 2)"
   ],
   "metadata": {
    "collapsed": false,
    "pycharm": {
     "name": "#%%\n"
    }
   }
  },
  {
   "cell_type": "code",
   "execution_count": 6,
   "outputs": [],
   "source": [],
   "metadata": {
    "collapsed": false,
    "pycharm": {
     "name": "#%%\n"
    }
   }
  },
  {
   "cell_type": "code",
   "execution_count": 82,
   "outputs": [
    {
     "name": "stdout",
     "output_type": "stream",
     "text": [
      "tensor(75.6080, grad_fn=<NegBackward>) tensor(0.1000) tensor([76, 72, 81, 51, 19, 24, 31, 52, 60, 66])\n"
     ]
    }
   ],
   "source": [
    "def prototypical_evaluator2(prototype, input, target):\n",
    "    dists = euclidean_dist(input, prototype)\n",
    "    log_p_y = F.log_softmax(-dists,dim=1)\n",
    "    y_hat = log_p_y.argmax(1)\n",
    "\n",
    "    loss = -log_p_y.squeeze().view(-1).mean()\n",
    "    acc = y_hat.eq(target.squeeze()).float().mean()\n",
    "\n",
    "    return loss, acc, y_hat\n",
    "\n",
    "loss, acc, yhat = prototypical_evaluator2(prototypes,query_sample,test_data[1])\n",
    "\n",
    "print(loss,acc,yhat)"
   ],
   "metadata": {
    "collapsed": false,
    "pycharm": {
     "name": "#%%\n"
    }
   }
  },
  {
   "cell_type": "code",
   "execution_count": 71,
   "outputs": [
    {
     "name": "stdout",
     "output_type": "stream",
     "text": [
      "tensor([4, 5, 6, 7, 8])\n",
      "tensor([10, 11, 12, 13, 14, 15, 16, 17, 18, 19])\n",
      "tensor([14, 15, 16, 17, 18])\n"
     ]
    }
   ],
   "source": [
    "a = torch.arange(4,9)\n",
    "b = torch.arange(10,20)\n",
    "print(a)\n",
    "print(b)\n",
    "gat = b.gather(0,a)\n",
    "print(gat)"
   ],
   "metadata": {
    "collapsed": false,
    "pycharm": {
     "name": "#%%\n"
    }
   }
  },
  {
   "cell_type": "code",
   "execution_count": 8,
   "outputs": [],
   "source": [
    "\n",
    "\n",
    "\n",
    "\n",
    "\n",
    "\n",
    "\n",
    "\n",
    "\n",
    "\n",
    "\n",
    "\n",
    "\n",
    "\n",
    "\n",
    "\n",
    "\n",
    "\n",
    "\n",
    "\n",
    "\n",
    "\n",
    "\n",
    "\n",
    "\n",
    "\n",
    "\n",
    "\n",
    "\n"
   ],
   "metadata": {
    "collapsed": false,
    "pycharm": {
     "name": "#%%\n"
    }
   }
  }
 ],
 "metadata": {
  "kernelspec": {
   "display_name": "Python 3",
   "language": "python",
   "name": "python3"
  },
  "language_info": {
   "codemirror_mode": {
    "name": "ipython",
    "version": 2
   },
   "file_extension": ".py",
   "mimetype": "text/x-python",
   "name": "python",
   "nbconvert_exporter": "python",
   "pygments_lexer": "ipython2",
   "version": "2.7.6"
  }
 },
 "nbformat": 4,
 "nbformat_minor": 0
}