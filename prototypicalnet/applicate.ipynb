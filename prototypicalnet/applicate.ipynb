{
 "cells": [
  {
   "cell_type": "code",
   "execution_count": 1,
   "metadata": {
    "collapsed": true
   },
   "outputs": [],
   "source": [
    "import os\n",
    "from glob import glob\n",
    "\n",
    "import torch\n",
    "import torch.backends.cudnn as cudnn\n",
    "from torch.utils.tensorboard import SummaryWriter\n",
    "import numpy as np\n",
    "import torchvision.datasets as dset\n",
    "from torch.utils.data import DataLoader\n",
    "from torchvision import transforms\n",
    "from configurate import get_config\n",
    "from protonets import ProtoNet\n",
    "from utils import AverageMeter\n",
    "from tqdm.notebook import tqdm\n",
    "\n",
    "from dataloader_cifar import PrototypicalBatchSampler\n",
    "\n",
    "from easydict import EasyDict"
   ]
  },
  {
   "cell_type": "code",
   "execution_count": 2,
   "outputs": [
    {
     "name": "stdout",
     "output_type": "stream",
     "text": [
      "Files already downloaded and verified\n"
     ]
    }
   ],
   "source": [
    "train_dataset = dset.CIFAR100('./data/cifar100', train=True, download=True, transform=transforms.ToTensor())\n",
    "test_dataset = dset.CIFAR100('./data/cifar100', train=False, download=False, transform=None)"
   ],
   "metadata": {
    "collapsed": false,
    "pycharm": {
     "name": "#%%\n"
    }
   }
  },
  {
   "cell_type": "code",
   "execution_count": 3,
   "outputs": [],
   "source": [
    "labels = []\n",
    "for data in train_dataset:\n",
    "    labels.append(data[1])\n"
   ],
   "metadata": {
    "collapsed": false,
    "pycharm": {
     "name": "#%%\n"
    }
   }
  },
  {
   "cell_type": "code",
   "execution_count": 8,
   "outputs": [],
   "source": [
    "sampler = PrototypicalBatchSampler(torch.LongTensor(labels), 100, 250,250, 100)\n",
    "\n",
    "data_loader = DataLoader(train_dataset, batch_sampler=sampler)"
   ],
   "metadata": {
    "collapsed": false,
    "pycharm": {
     "name": "#%%\n"
    }
   }
  },
  {
   "cell_type": "code",
   "execution_count": 9,
   "outputs": [],
   "source": [
    "data = next(iter(data_loader))\n",
    "\n",
    "x,y = data[0], data[1]"
   ],
   "metadata": {
    "collapsed": false,
    "pycharm": {
     "name": "#%%\n"
    }
   }
  },
  {
   "cell_type": "code",
   "execution_count": 23,
   "outputs": [
    {
     "name": "stdout",
     "output_type": "stream",
     "text": [
      "50000\n",
      "50000\n",
      "100\n",
      "tensor([250, 250, 250, 250, 250, 250, 250, 250, 250, 250, 250, 250, 250, 250,\n",
      "        250, 250, 250, 250, 250, 250, 250, 250, 250, 250, 250, 250, 250, 250,\n",
      "        250, 250, 250, 250, 250, 250, 250, 250, 250, 250, 250, 250, 250, 250,\n",
      "        250, 250, 250, 250, 250, 250, 250, 250, 250, 250, 250, 250, 250, 250,\n",
      "        250, 250, 250, 250, 250, 250, 250, 250, 250, 250, 250, 250, 250, 250,\n",
      "        250, 250, 250, 250, 250, 250, 250, 250, 250, 250, 250, 250, 250, 250,\n",
      "        250, 250, 250, 250, 250, 250, 250, 250, 250, 250, 250, 250, 250, 250,\n",
      "        250, 250])\n"
     ]
    }
   ],
   "source": [],
   "metadata": {
    "collapsed": false,
    "pycharm": {
     "name": "#%%\n"
    }
   }
  },
  {
   "cell_type": "code",
   "execution_count": null,
   "outputs": [],
   "source": [
    "\n",
    "\n",
    "\n",
    "\n",
    "\n",
    "\n",
    "\n",
    "\n"
   ],
   "metadata": {
    "collapsed": false,
    "pycharm": {
     "name": "#%%\n"
    }
   }
  }
 ],
 "metadata": {
  "kernelspec": {
   "display_name": "Python 3",
   "language": "python",
   "name": "python3"
  },
  "language_info": {
   "codemirror_mode": {
    "name": "ipython",
    "version": 2
   },
   "file_extension": ".py",
   "mimetype": "text/x-python",
   "name": "python",
   "nbconvert_exporter": "python",
   "pygments_lexer": "ipython2",
   "version": "2.7.6"
  }
 },
 "nbformat": 4,
 "nbformat_minor": 0
}